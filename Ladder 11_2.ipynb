{
 "cells": [
  {
   "cell_type": "code",
   "execution_count": 52,
   "metadata": {},
   "outputs": [
    {
     "name": "stdout",
     "output_type": "stream",
     "text": [
      "10 6 40\n",
      "2 8 14 20 26 "
     ]
    }
   ],
   "source": [
    "#A. Two Bags of Potatoes\n",
    "y,k,n = map(int,input().split())\n",
    "flag = True\n",
    "init = (y+k)%k\n",
    "init = y+k-init\n",
    "for x in range(init,n+1,k):\n",
    "    flag = False\n",
    "    print(x-y,end=' ')\n",
    "if flag:\n",
    "    print(-1)"
   ]
  },
  {
   "cell_type": "code",
   "execution_count": 49,
   "metadata": {},
   "outputs": [
    {
     "ename": "KeyboardInterrupt",
     "evalue": "Interrupted by user",
     "output_type": "error",
     "traceback": [
      "\u001b[1;31m---------------------------------------------------------------------------\u001b[0m",
      "\u001b[1;31mKeyboardInterrupt\u001b[0m                         Traceback (most recent call last)",
      "\u001b[1;32m<ipython-input-49-118ec0efb3c6>\u001b[0m in \u001b[0;36m<module>\u001b[1;34m\u001b[0m\n\u001b[0;32m      1\u001b[0m \u001b[1;31m#B. Increase and Decrease\u001b[0m\u001b[1;33m\u001b[0m\u001b[1;33m\u001b[0m\u001b[1;33m\u001b[0m\u001b[0m\n\u001b[1;32m----> 2\u001b[1;33m \u001b[0mn\u001b[0m \u001b[1;33m=\u001b[0m \u001b[0mint\u001b[0m\u001b[1;33m(\u001b[0m\u001b[0minput\u001b[0m\u001b[1;33m(\u001b[0m\u001b[1;33m)\u001b[0m\u001b[1;33m)\u001b[0m\u001b[1;33m\u001b[0m\u001b[1;33m\u001b[0m\u001b[0m\n\u001b[0m\u001b[0;32m      3\u001b[0m \u001b[0ma\u001b[0m \u001b[1;33m=\u001b[0m \u001b[0mlist\u001b[0m\u001b[1;33m(\u001b[0m\u001b[0mmap\u001b[0m\u001b[1;33m(\u001b[0m\u001b[0mint\u001b[0m\u001b[1;33m,\u001b[0m\u001b[0minput\u001b[0m\u001b[1;33m(\u001b[0m\u001b[1;33m)\u001b[0m\u001b[1;33m.\u001b[0m\u001b[0msplit\u001b[0m\u001b[1;33m(\u001b[0m\u001b[1;33m)\u001b[0m\u001b[1;33m)\u001b[0m\u001b[1;33m)\u001b[0m\u001b[1;33m\u001b[0m\u001b[1;33m\u001b[0m\u001b[0m\n\u001b[0;32m      4\u001b[0m \u001b[1;32mif\u001b[0m \u001b[0msum\u001b[0m\u001b[1;33m(\u001b[0m\u001b[0ma\u001b[0m\u001b[1;33m)\u001b[0m\u001b[1;33m%\u001b[0m\u001b[0mn\u001b[0m\u001b[1;33m==\u001b[0m\u001b[1;36m0\u001b[0m\u001b[1;33m:\u001b[0m\u001b[1;33m\u001b[0m\u001b[1;33m\u001b[0m\u001b[0m\n\u001b[0;32m      5\u001b[0m     \u001b[0mprint\u001b[0m\u001b[1;33m(\u001b[0m\u001b[0mn\u001b[0m\u001b[1;33m)\u001b[0m\u001b[1;33m\u001b[0m\u001b[1;33m\u001b[0m\u001b[0m\n",
      "\u001b[1;32mc:\\users\\amitd\\opencv\\lib\\site-packages\\ipykernel\\kernelbase.py\u001b[0m in \u001b[0;36mraw_input\u001b[1;34m(self, prompt)\u001b[0m\n\u001b[0;32m    858\u001b[0m                 \u001b[1;34m\"raw_input was called, but this frontend does not support input requests.\"\u001b[0m\u001b[1;33m\u001b[0m\u001b[1;33m\u001b[0m\u001b[0m\n\u001b[0;32m    859\u001b[0m             )\n\u001b[1;32m--> 860\u001b[1;33m         return self._input_request(str(prompt),\n\u001b[0m\u001b[0;32m    861\u001b[0m             \u001b[0mself\u001b[0m\u001b[1;33m.\u001b[0m\u001b[0m_parent_ident\u001b[0m\u001b[1;33m,\u001b[0m\u001b[1;33m\u001b[0m\u001b[1;33m\u001b[0m\u001b[0m\n\u001b[0;32m    862\u001b[0m             \u001b[0mself\u001b[0m\u001b[1;33m.\u001b[0m\u001b[0m_parent_header\u001b[0m\u001b[1;33m,\u001b[0m\u001b[1;33m\u001b[0m\u001b[1;33m\u001b[0m\u001b[0m\n",
      "\u001b[1;32mc:\\users\\amitd\\opencv\\lib\\site-packages\\ipykernel\\kernelbase.py\u001b[0m in \u001b[0;36m_input_request\u001b[1;34m(self, prompt, ident, parent, password)\u001b[0m\n\u001b[0;32m    902\u001b[0m             \u001b[1;32mexcept\u001b[0m \u001b[0mKeyboardInterrupt\u001b[0m\u001b[1;33m:\u001b[0m\u001b[1;33m\u001b[0m\u001b[1;33m\u001b[0m\u001b[0m\n\u001b[0;32m    903\u001b[0m                 \u001b[1;31m# re-raise KeyboardInterrupt, to truncate traceback\u001b[0m\u001b[1;33m\u001b[0m\u001b[1;33m\u001b[0m\u001b[1;33m\u001b[0m\u001b[0m\n\u001b[1;32m--> 904\u001b[1;33m                 \u001b[1;32mraise\u001b[0m \u001b[0mKeyboardInterrupt\u001b[0m\u001b[1;33m(\u001b[0m\u001b[1;34m\"Interrupted by user\"\u001b[0m\u001b[1;33m)\u001b[0m \u001b[1;32mfrom\u001b[0m \u001b[1;32mNone\u001b[0m\u001b[1;33m\u001b[0m\u001b[1;33m\u001b[0m\u001b[0m\n\u001b[0m\u001b[0;32m    905\u001b[0m             \u001b[1;32mexcept\u001b[0m \u001b[0mException\u001b[0m \u001b[1;32mas\u001b[0m \u001b[0me\u001b[0m\u001b[1;33m:\u001b[0m\u001b[1;33m\u001b[0m\u001b[1;33m\u001b[0m\u001b[0m\n\u001b[0;32m    906\u001b[0m                 \u001b[0mself\u001b[0m\u001b[1;33m.\u001b[0m\u001b[0mlog\u001b[0m\u001b[1;33m.\u001b[0m\u001b[0mwarning\u001b[0m\u001b[1;33m(\u001b[0m\u001b[1;34m\"Invalid Message:\"\u001b[0m\u001b[1;33m,\u001b[0m \u001b[0mexc_info\u001b[0m\u001b[1;33m=\u001b[0m\u001b[1;32mTrue\u001b[0m\u001b[1;33m)\u001b[0m\u001b[1;33m\u001b[0m\u001b[1;33m\u001b[0m\u001b[0m\n",
      "\u001b[1;31mKeyboardInterrupt\u001b[0m: Interrupted by user"
     ]
    }
   ],
   "source": [
    "#B. Increase and Decrease\n",
    "n = int(input())\n",
    "a = list(map(int,input().split()))\n",
    "if sum(a)%n==0:\n",
    "    print(n)\n",
    "else:\n",
    "    print(n-1)"
   ]
  },
  {
   "cell_type": "code",
   "execution_count": 44,
   "metadata": {},
   "outputs": [
    {
     "name": "stdout",
     "output_type": "stream",
     "text": [
      "3 6\n",
      "5 5 5 \n",
      "8 9 6 10 7 11\n",
      "-1\n"
     ]
    }
   ],
   "source": [
    "#A. TL\n",
    "n,m = map(int,input().split())\n",
    "a = list(map(int,input().split()))\n",
    "b = list(map(int,input().split()))\n",
    "x = min(b)\n",
    "y = max(a)\n",
    "extra = 2*min(a)\n",
    "if extra<=y and y<x:\n",
    "    print(y)\n",
    "else:\n",
    "    flag = False\n",
    "    for i in range(y,x):\n",
    "        if i>=extra:\n",
    "            flag = True\n",
    "            print(i)\n",
    "            break\n",
    "    if not flag:\n",
    "        print(-1)"
   ]
  },
  {
   "cell_type": "code",
   "execution_count": 40,
   "metadata": {},
   "outputs": [
    {
     "name": "stdout",
     "output_type": "stream",
     "text": [
      "2 1\n",
      "20 1\n",
      "2\n"
     ]
    }
   ],
   "source": [
    "#B. Fence\n",
    "n,k = map(int,input().split())\n",
    "h = list(map(int,input().split()))\n",
    "index = 0\n",
    "t = sum(h[0:k])\n",
    "min_ = t\n",
    "for i in range(k,n):\n",
    "    t = t - h[i-k]+h[i]\n",
    "    if t<min_:\n",
    "        min_ = t\n",
    "        index = i-k+1\n",
    "print(index+1)"
   ]
  },
  {
   "cell_type": "code",
   "execution_count": null,
   "metadata": {},
   "outputs": [],
   "source": [
    "# A. Yaroslav and Permutations\n",
    "from math import ceil\n",
    "n = int(input())\n",
    "a = list(map(int,input().split()))\n",
    "if n==1:\n",
    "    print('YES')\n",
    "else:\n",
    "    d = dict()\n",
    "    for i in a:\n",
    "        if i not in d:\n",
    "            d[i] = 0\n",
    "        d[i] += 1\n",
    "    flag = True\n",
    "    for k,v in d.items():\n",
    "        if v>ceil(n/2):\n",
    "            flag = False\n",
    "            break\n",
    "    if flag:\n",
    "        print('YES')\n",
    "    else:\n",
    "        print('NO')"
   ]
  },
  {
   "cell_type": "code",
   "execution_count": 9,
   "metadata": {},
   "outputs": [
    {
     "name": "stdout",
     "output_type": "stream",
     "text": [
      "10111\n",
      "1111\n"
     ]
    }
   ],
   "source": [
    "#A. Little Elephant and Bits\n",
    "b = input()\n",
    "n = len(b)\n",
    "if '0' in b:\n",
    "    i = b.index('0') \n",
    "    print(b[:i]+b[i+1:])\n",
    "else:\n",
    "    print(b[:-1])"
   ]
  },
  {
   "cell_type": "code",
   "execution_count": 42,
   "metadata": {},
   "outputs": [
    {
     "name": "stdout",
     "output_type": "stream",
     "text": [
      "3\n",
      "1 1\n",
      "2 2\n",
      "3 3\n",
      "-1\n"
     ]
    }
   ],
   "source": [
    "#B. Big Segment\n",
    "n = int(input())\n",
    "l = []\n",
    "r = []\n",
    "for _ in range(n):\n",
    "    x, y = map(int,input().split())\n",
    "    l.append(x)\n",
    "    r.append(y)\n",
    "li = min(l)\n",
    "ri = max(r)\n",
    "flag = False\n",
    "for i in range(n):\n",
    "    if l[i]==li and r[i]==ri:\n",
    "        print(i+1)\n",
    "        flag = True\n",
    "        break\n",
    "if not flag:\n",
    "    print(-1)\n"
   ]
  },
  {
   "cell_type": "code",
   "execution_count": 40,
   "metadata": {},
   "outputs": [
    {
     "name": "stdout",
     "output_type": "stream",
     "text": [
      "100\n",
      "1000 1001 1002 1003 1004 1005 1006 1007 1008 1009 1010 1011 1012 1013 1014 1015 1016 1017 1018 1019 1020 1021 1022 1023 1024 1025 1026 1027 1028 1029 1030 1031 1032 1033 1034 1035 1036 1037 1038 1039 1040 1041 1042 1043 1044 1045 1046 1047 1048 1049 1050 1051 1052 1053 1054 1055 1056 1057 1058 1059 1060 1061 1062 1063 1064 1065 1066 1067 1068 1069 1070 1071 1072 1073 1074 1075 1076 1077 1078 1079 1080 1081 1082 1083 1084 1085 1086 1087 1088 1089 1090 1091 1092 1093 1094 1095 1096 1097 1098 1099 "
     ]
    }
   ],
   "source": [
    "#B. Hungry Sequence\n",
    "n = int(input())\n",
    "t = n*10\n",
    "for i in range(t,t+n):\n",
    "    print(i,end=' ')"
   ]
  },
  {
   "cell_type": "code",
   "execution_count": 38,
   "metadata": {},
   "outputs": [
    {
     "name": "stdout",
     "output_type": "stream",
     "text": [
      "5\n",
      "2 3 5 7 11\n"
     ]
    }
   ],
   "source": [
    "#B. Hungry Sequence\n",
    "def gen_primes():\n",
    "    D = {}  \n",
    "    q = 2  \n",
    "    while True:\n",
    "        if q not in D:\n",
    "            yield q        \n",
    "            D[q * q] = [q]\n",
    "        else:\n",
    "            for p in D[q]:\n",
    "                D.setdefault(p + q, []).append(p)\n",
    "            del D[q]\n",
    "        q += 1\n",
    "primes = gen_primes()\n",
    "x = set()\n",
    "y = 0\n",
    "a = gen_primes()\n",
    "n = int(input())\n",
    "while y < n:\n",
    "    x |= set([a.__next__()])\n",
    "    y+=1\n",
    "print(*x)"
   ]
  },
  {
   "cell_type": "code",
   "execution_count": 26,
   "metadata": {},
   "outputs": [
    {
     "name": "stdout",
     "output_type": "stream",
     "text": [
      "ab\n",
      "cd\n",
      "NO\n"
     ]
    }
   ],
   "source": [
    "#A. Comparing Strings\n",
    "s = input()\n",
    "t = input()\n",
    "snot = set()\n",
    "if len(s)!= len(t):\n",
    "    print('NO')\n",
    "else:\n",
    "    n = len(s)\n",
    "    i = 0\n",
    "    changes = 0\n",
    "    while i<n:\n",
    "        if s[i] != t[i] :\n",
    "            changes += 1\n",
    "            snot.add(s[i])\n",
    "            snot.add(t[i])\n",
    "        i +=1\n",
    "    if changes == 2 and len(snot)==2:\n",
    "        print('YES')\n",
    "    else:\n",
    "        print('NO')"
   ]
  },
  {
   "cell_type": "code",
   "execution_count": 21,
   "metadata": {},
   "outputs": [
    {
     "name": "stdout",
     "output_type": "stream",
     "text": [
      "Instead of dogging Your footsteps it disappears but you dont notice anything\n",
      "where is your dog\n",
      "NO\n"
     ]
    }
   ],
   "source": [
    "#B. Letter\n",
    "h = input()\n",
    "s = input()\n",
    "d = {}\n",
    "for i in h:\n",
    "    if i not in d:\n",
    "        d[i] = 1\n",
    "    else:\n",
    "        d[i]+=1\n",
    "flag= 0\n",
    "for i in s:\n",
    "    if i==' ':\n",
    "        continue\n",
    "    if i in d and d[i]!=0:\n",
    "        d[i]-=1\n",
    "    else:\n",
    "        flag = 1\n",
    "        break\n",
    "if(flag==1):\n",
    "    print(\"NO\")\n",
    "else:\n",
    "    print(\"YES\")\n"
   ]
  },
  {
   "cell_type": "code",
   "execution_count": 18,
   "metadata": {},
   "outputs": [
    {
     "name": "stdout",
     "output_type": "stream",
     "text": [
      "4\n",
      "100 100 100 200\n",
      "NO\n"
     ]
    }
   ],
   "source": [
    "#A. Kitahara Haruki's Gift\n",
    "n = input()\n",
    "dic = {100:0,\n",
    "      200:0}\n",
    "a = list(map(int,input().split()))\n",
    "for i in a:\n",
    "    dic[i]+=1\n",
    "#case when both are even\n",
    "if dic[100]%2==0 and dic[200]%2==0:\n",
    "    print('YES')\n",
    "elif dic[200]%2!=0 and dic[100]%2==0 and dic[100]>=2 :\n",
    "    print('YES')\n",
    "else:\n",
    "    print('NO')"
   ]
  },
  {
   "cell_type": "code",
   "execution_count": 14,
   "metadata": {},
   "outputs": [
    {
     "name": "stdout",
     "output_type": "stream",
     "text": [
      "6\n",
      "1 3 4\n",
      "-1\n"
     ]
    }
   ],
   "source": [
    "#A. Xenia and Divisors\n",
    "n=int(input())\n",
    "L=[int(i) for i in input().split()]\n",
    "d={1:0,2:0,3:0,4:0,5:0,6:0,7:0}\n",
    "for i in L:\n",
    "    d[i]+=1\n",
    "if (d[5]!=0 or d[7]!=0) or len(set(L))<3 or (d[1]!=d[2]+d[3]) or (d[1]!=d[4]+d[6]) or d[4]>d[2] or d[3]>d[6]:\n",
    "    print(\"-1\")\n",
    "else:\n",
    "    ans=\"\"\n",
    "    ans+=\"1 2 4\\n\"*d[4]\n",
    "    ans+=\"1 2 6\\n\"*(d[2]-d[4])\n",
    "    ans+=\"1 3 6\\n\"*d[3]\n",
    "    print(ans)"
   ]
  },
  {
   "cell_type": "code",
   "execution_count": 13,
   "metadata": {},
   "outputs": [
    {
     "ename": "KeyboardInterrupt",
     "evalue": "Interrupted by user",
     "output_type": "error",
     "traceback": [
      "\u001b[1;31m---------------------------------------------------------------------------\u001b[0m",
      "\u001b[1;31mKeyboardInterrupt\u001b[0m                         Traceback (most recent call last)",
      "\u001b[1;32m<ipython-input-13-b9ac49516518>\u001b[0m in \u001b[0;36m<module>\u001b[1;34m\u001b[0m\n\u001b[0;32m      1\u001b[0m \u001b[1;31m#A. Shooshuns and Sequence\u001b[0m\u001b[1;33m\u001b[0m\u001b[1;33m\u001b[0m\u001b[1;33m\u001b[0m\u001b[0m\n\u001b[1;32m----> 2\u001b[1;33m \u001b[0mn\u001b[0m\u001b[1;33m,\u001b[0m\u001b[0mk\u001b[0m \u001b[1;33m=\u001b[0m \u001b[0mmap\u001b[0m\u001b[1;33m(\u001b[0m\u001b[0mint\u001b[0m\u001b[1;33m,\u001b[0m\u001b[0minput\u001b[0m\u001b[1;33m(\u001b[0m\u001b[1;33m)\u001b[0m\u001b[1;33m.\u001b[0m\u001b[0msplit\u001b[0m\u001b[1;33m(\u001b[0m\u001b[1;33m)\u001b[0m\u001b[1;33m)\u001b[0m\u001b[1;33m\u001b[0m\u001b[1;33m\u001b[0m\u001b[0m\n\u001b[0m\u001b[0;32m      3\u001b[0m \u001b[0ma\u001b[0m \u001b[1;33m=\u001b[0m \u001b[0mlist\u001b[0m\u001b[1;33m(\u001b[0m\u001b[0mmap\u001b[0m\u001b[1;33m(\u001b[0m\u001b[0mint\u001b[0m\u001b[1;33m,\u001b[0m\u001b[0minput\u001b[0m\u001b[1;33m(\u001b[0m\u001b[1;33m)\u001b[0m\u001b[1;33m.\u001b[0m\u001b[0msplit\u001b[0m\u001b[1;33m(\u001b[0m\u001b[1;33m)\u001b[0m\u001b[1;33m)\u001b[0m\u001b[1;33m)\u001b[0m\u001b[1;33m\u001b[0m\u001b[1;33m\u001b[0m\u001b[0m\n\u001b[0;32m      4\u001b[0m \u001b[0mt\u001b[0m \u001b[1;33m=\u001b[0m \u001b[0ma\u001b[0m\u001b[1;33m[\u001b[0m\u001b[0mk\u001b[0m\u001b[1;33m-\u001b[0m\u001b[1;36m1\u001b[0m\u001b[1;33m]\u001b[0m\u001b[1;33m\u001b[0m\u001b[1;33m\u001b[0m\u001b[0m\n\u001b[0;32m      5\u001b[0m \u001b[1;32mif\u001b[0m \u001b[0ma\u001b[0m\u001b[1;33m[\u001b[0m\u001b[0mk\u001b[0m\u001b[1;33m:\u001b[0m\u001b[1;33m]\u001b[0m \u001b[1;33m==\u001b[0m \u001b[1;33m[\u001b[0m\u001b[0mt\u001b[0m\u001b[1;33m]\u001b[0m\u001b[1;33m*\u001b[0m\u001b[1;33m(\u001b[0m\u001b[0mn\u001b[0m\u001b[1;33m-\u001b[0m\u001b[0mk\u001b[0m\u001b[1;33m)\u001b[0m\u001b[1;33m:\u001b[0m\u001b[1;33m\u001b[0m\u001b[1;33m\u001b[0m\u001b[0m\n",
      "\u001b[1;32mc:\\users\\amitd\\opencv\\lib\\site-packages\\ipykernel\\kernelbase.py\u001b[0m in \u001b[0;36mraw_input\u001b[1;34m(self, prompt)\u001b[0m\n\u001b[0;32m    858\u001b[0m                 \u001b[1;34m\"raw_input was called, but this frontend does not support input requests.\"\u001b[0m\u001b[1;33m\u001b[0m\u001b[1;33m\u001b[0m\u001b[0m\n\u001b[0;32m    859\u001b[0m             )\n\u001b[1;32m--> 860\u001b[1;33m         return self._input_request(str(prompt),\n\u001b[0m\u001b[0;32m    861\u001b[0m             \u001b[0mself\u001b[0m\u001b[1;33m.\u001b[0m\u001b[0m_parent_ident\u001b[0m\u001b[1;33m,\u001b[0m\u001b[1;33m\u001b[0m\u001b[1;33m\u001b[0m\u001b[0m\n\u001b[0;32m    862\u001b[0m             \u001b[0mself\u001b[0m\u001b[1;33m.\u001b[0m\u001b[0m_parent_header\u001b[0m\u001b[1;33m,\u001b[0m\u001b[1;33m\u001b[0m\u001b[1;33m\u001b[0m\u001b[0m\n",
      "\u001b[1;32mc:\\users\\amitd\\opencv\\lib\\site-packages\\ipykernel\\kernelbase.py\u001b[0m in \u001b[0;36m_input_request\u001b[1;34m(self, prompt, ident, parent, password)\u001b[0m\n\u001b[0;32m    902\u001b[0m             \u001b[1;32mexcept\u001b[0m \u001b[0mKeyboardInterrupt\u001b[0m\u001b[1;33m:\u001b[0m\u001b[1;33m\u001b[0m\u001b[1;33m\u001b[0m\u001b[0m\n\u001b[0;32m    903\u001b[0m                 \u001b[1;31m# re-raise KeyboardInterrupt, to truncate traceback\u001b[0m\u001b[1;33m\u001b[0m\u001b[1;33m\u001b[0m\u001b[1;33m\u001b[0m\u001b[0m\n\u001b[1;32m--> 904\u001b[1;33m                 \u001b[1;32mraise\u001b[0m \u001b[0mKeyboardInterrupt\u001b[0m\u001b[1;33m(\u001b[0m\u001b[1;34m\"Interrupted by user\"\u001b[0m\u001b[1;33m)\u001b[0m \u001b[1;32mfrom\u001b[0m \u001b[1;32mNone\u001b[0m\u001b[1;33m\u001b[0m\u001b[1;33m\u001b[0m\u001b[0m\n\u001b[0m\u001b[0;32m    905\u001b[0m             \u001b[1;32mexcept\u001b[0m \u001b[0mException\u001b[0m \u001b[1;32mas\u001b[0m \u001b[0me\u001b[0m\u001b[1;33m:\u001b[0m\u001b[1;33m\u001b[0m\u001b[1;33m\u001b[0m\u001b[0m\n\u001b[0;32m    906\u001b[0m                 \u001b[0mself\u001b[0m\u001b[1;33m.\u001b[0m\u001b[0mlog\u001b[0m\u001b[1;33m.\u001b[0m\u001b[0mwarning\u001b[0m\u001b[1;33m(\u001b[0m\u001b[1;34m\"Invalid Message:\"\u001b[0m\u001b[1;33m,\u001b[0m \u001b[0mexc_info\u001b[0m\u001b[1;33m=\u001b[0m\u001b[1;32mTrue\u001b[0m\u001b[1;33m)\u001b[0m\u001b[1;33m\u001b[0m\u001b[1;33m\u001b[0m\u001b[0m\n",
      "\u001b[1;31mKeyboardInterrupt\u001b[0m: Interrupted by user"
     ]
    }
   ],
   "source": [
    "#A. Shooshuns and Sequence\n",
    "n,k = map(int,input().split())\n",
    "a = list(map(int,input().split()))\n",
    "t = a[k-1]\n",
    "if a[k:] == [t]*(n-k):\n",
    "    j = k-1\n",
    "    while j>-1 and a[j]==a[k-1]:\n",
    "        j -= 1\n",
    "    print(j+1)\n",
    "else:\n",
    "    print(-1)"
   ]
  },
  {
   "cell_type": "code",
   "execution_count": 6,
   "metadata": {},
   "outputs": [
    {
     "name": "stdout",
     "output_type": "stream",
     "text": [
      "3 1\n",
      "3 1 1\n",
      "\n"
     ]
    },
    {
     "ename": "KeyboardInterrupt",
     "evalue": "Interrupted by user",
     "output_type": "error",
     "traceback": [
      "\u001b[1;31m---------------------------------------------------------------------------\u001b[0m",
      "\u001b[1;31mKeyboardInterrupt\u001b[0m                         Traceback (most recent call last)",
      "\u001b[1;32m<ipython-input-6-7a6f0aadbeca>\u001b[0m in \u001b[0;36m<module>\u001b[1;34m\u001b[0m\n\u001b[0;32m      3\u001b[0m \u001b[0marr\u001b[0m \u001b[1;33m=\u001b[0m \u001b[1;33m[\u001b[0m\u001b[1;33m]\u001b[0m\u001b[1;33m\u001b[0m\u001b[1;33m\u001b[0m\u001b[0m\n\u001b[0;32m      4\u001b[0m \u001b[1;32mfor\u001b[0m \u001b[0mi\u001b[0m \u001b[1;32min\u001b[0m \u001b[0mrange\u001b[0m\u001b[1;33m(\u001b[0m\u001b[1;36m5\u001b[0m\u001b[1;33m)\u001b[0m\u001b[1;33m:\u001b[0m\u001b[1;33m\u001b[0m\u001b[1;33m\u001b[0m\u001b[0m\n\u001b[1;32m----> 5\u001b[1;33m     \u001b[0marr\u001b[0m\u001b[1;33m.\u001b[0m\u001b[0mappend\u001b[0m\u001b[1;33m(\u001b[0m\u001b[0mlist\u001b[0m\u001b[1;33m(\u001b[0m\u001b[0mmap\u001b[0m\u001b[1;33m(\u001b[0m\u001b[0mint\u001b[0m\u001b[1;33m,\u001b[0m\u001b[0minput\u001b[0m\u001b[1;33m(\u001b[0m\u001b[1;33m)\u001b[0m\u001b[1;33m.\u001b[0m\u001b[0msplit\u001b[0m\u001b[1;33m(\u001b[0m\u001b[1;33m)\u001b[0m\u001b[1;33m)\u001b[0m\u001b[1;33m)\u001b[0m\u001b[1;33m)\u001b[0m\u001b[1;33m\u001b[0m\u001b[1;33m\u001b[0m\u001b[0m\n\u001b[0m\u001b[0;32m      6\u001b[0m \u001b[0ml\u001b[0m \u001b[1;33m=\u001b[0m \u001b[1;33m[\u001b[0m\u001b[1;36m1\u001b[0m\u001b[1;33m,\u001b[0m\u001b[1;36m2\u001b[0m\u001b[1;33m,\u001b[0m\u001b[1;36m3\u001b[0m\u001b[1;33m,\u001b[0m\u001b[1;36m4\u001b[0m\u001b[1;33m,\u001b[0m\u001b[1;36m5\u001b[0m\u001b[1;33m]\u001b[0m\u001b[1;33m\u001b[0m\u001b[1;33m\u001b[0m\u001b[0m\n\u001b[0;32m      7\u001b[0m \u001b[0mperm\u001b[0m \u001b[1;33m=\u001b[0m \u001b[0mpermutations\u001b[0m\u001b[1;33m(\u001b[0m\u001b[0ml\u001b[0m\u001b[1;33m)\u001b[0m\u001b[1;33m\u001b[0m\u001b[1;33m\u001b[0m\u001b[0m\n",
      "\u001b[1;32mc:\\users\\amitd\\opencv\\lib\\site-packages\\ipykernel\\kernelbase.py\u001b[0m in \u001b[0;36mraw_input\u001b[1;34m(self, prompt)\u001b[0m\n\u001b[0;32m    858\u001b[0m                 \u001b[1;34m\"raw_input was called, but this frontend does not support input requests.\"\u001b[0m\u001b[1;33m\u001b[0m\u001b[1;33m\u001b[0m\u001b[0m\n\u001b[0;32m    859\u001b[0m             )\n\u001b[1;32m--> 860\u001b[1;33m         return self._input_request(str(prompt),\n\u001b[0m\u001b[0;32m    861\u001b[0m             \u001b[0mself\u001b[0m\u001b[1;33m.\u001b[0m\u001b[0m_parent_ident\u001b[0m\u001b[1;33m,\u001b[0m\u001b[1;33m\u001b[0m\u001b[1;33m\u001b[0m\u001b[0m\n\u001b[0;32m    862\u001b[0m             \u001b[0mself\u001b[0m\u001b[1;33m.\u001b[0m\u001b[0m_parent_header\u001b[0m\u001b[1;33m,\u001b[0m\u001b[1;33m\u001b[0m\u001b[1;33m\u001b[0m\u001b[0m\n",
      "\u001b[1;32mc:\\users\\amitd\\opencv\\lib\\site-packages\\ipykernel\\kernelbase.py\u001b[0m in \u001b[0;36m_input_request\u001b[1;34m(self, prompt, ident, parent, password)\u001b[0m\n\u001b[0;32m    902\u001b[0m             \u001b[1;32mexcept\u001b[0m \u001b[0mKeyboardInterrupt\u001b[0m\u001b[1;33m:\u001b[0m\u001b[1;33m\u001b[0m\u001b[1;33m\u001b[0m\u001b[0m\n\u001b[0;32m    903\u001b[0m                 \u001b[1;31m# re-raise KeyboardInterrupt, to truncate traceback\u001b[0m\u001b[1;33m\u001b[0m\u001b[1;33m\u001b[0m\u001b[1;33m\u001b[0m\u001b[0m\n\u001b[1;32m--> 904\u001b[1;33m                 \u001b[1;32mraise\u001b[0m \u001b[0mKeyboardInterrupt\u001b[0m\u001b[1;33m(\u001b[0m\u001b[1;34m\"Interrupted by user\"\u001b[0m\u001b[1;33m)\u001b[0m \u001b[1;32mfrom\u001b[0m \u001b[1;32mNone\u001b[0m\u001b[1;33m\u001b[0m\u001b[1;33m\u001b[0m\u001b[0m\n\u001b[0m\u001b[0;32m    905\u001b[0m             \u001b[1;32mexcept\u001b[0m \u001b[0mException\u001b[0m \u001b[1;32mas\u001b[0m \u001b[0me\u001b[0m\u001b[1;33m:\u001b[0m\u001b[1;33m\u001b[0m\u001b[1;33m\u001b[0m\u001b[0m\n\u001b[0;32m    906\u001b[0m                 \u001b[0mself\u001b[0m\u001b[1;33m.\u001b[0m\u001b[0mlog\u001b[0m\u001b[1;33m.\u001b[0m\u001b[0mwarning\u001b[0m\u001b[1;33m(\u001b[0m\u001b[1;34m\"Invalid Message:\"\u001b[0m\u001b[1;33m,\u001b[0m \u001b[0mexc_info\u001b[0m\u001b[1;33m=\u001b[0m\u001b[1;32mTrue\u001b[0m\u001b[1;33m)\u001b[0m\u001b[1;33m\u001b[0m\u001b[1;33m\u001b[0m\u001b[0m\n",
      "\u001b[1;31mKeyboardInterrupt\u001b[0m: Interrupted by user"
     ]
    }
   ],
   "source": [
    "#B. Shower Line\n",
    "from itertools import permutations\n",
    "arr = []\n",
    "for i in range(5):\n",
    "    arr.append(list(map(int,input().split())))\n",
    "l = [1,2,3,4,5]\n",
    "perm = permutations(l)\n",
    "print(perm)\n",
    "happy = 0\n",
    "for i in list(perm):\n",
    "    tmp =0 \n",
    "    loop = 4\n",
    "    k1 = 0\n",
    "    while(k1<loop):\n",
    "        j = k1\n",
    "        k = j+1\n",
    "        while(k<5):\n",
    "            val = i[j]\n",
    "            val1 = i[k]\n",
    "            tmp+=(arr[val-1][val1-1]+arr[val1-1][val-1])\n",
    "            j = k+1\n",
    "            k = j+1\n",
    "        if(tmp>happy):\n",
    "            happy = tmp\n",
    "        k1+=1\n",
    "print(ans)"
   ]
  },
  {
   "cell_type": "code",
   "execution_count": 6,
   "metadata": {},
   "outputs": [
    {
     "name": "stdout",
     "output_type": "stream",
     "text": [
      "10 5 3 3 6\n",
      "NENSWESNEE\n",
      "-1\n"
     ]
    }
   ],
   "source": [
    "#B. Sail\n",
    "t,sx,sy,ex,ey = map(int,input().split())\n",
    "d = list(input())\n",
    "x,y = sx,sy\n",
    "moves = 0\n",
    "for i in d:\n",
    "    if ex==x and ey == y:\n",
    "        break\n",
    "    if i == 'N'and y<ey:\n",
    "        y += 1\n",
    "    elif i == 'S' and y>ey:\n",
    "        y -= 1\n",
    "    elif i == 'E' and x<ex:\n",
    "        x += 1\n",
    "    elif i == 'W' and x>ex:\n",
    "        x -= 1\n",
    "    moves += 1\n",
    "if ex==x and ey == y:\n",
    "    print(moves)\n",
    "else:\n",
    "    print(-1)"
   ]
  },
  {
   "cell_type": "code",
   "execution_count": 1,
   "metadata": {},
   "outputs": [
    {
     "name": "stdout",
     "output_type": "stream",
     "text": [
      "abba\n",
      "First\n"
     ]
    }
   ],
   "source": [
    "# B. Little Girl and Game\n",
    "s = input()\n",
    "dic = dict()\n",
    "for i in s:\n",
    "    if i not in dic:\n",
    "        dic[i] = 0\n",
    "    dic[i] += 1\n",
    "odds = 0\n",
    "for i,v in dic.items():\n",
    "    if v%2!=0:\n",
    "        odds += 1\n",
    "if odds == 1:\n",
    "    print('First')\n",
    "elif odds == 0:\n",
    "    print('First')\n",
    "elif odds%2 !=0:\n",
    "    print('First')\n",
    "elif odds%2 == 0:\n",
    "    print('Second')"
   ]
  },
  {
   "cell_type": "code",
   "execution_count": 22,
   "metadata": {},
   "outputs": [
    {
     "name": "stdout",
     "output_type": "stream",
     "text": [
      "8\n",
      "1 2 1 3 1 2 1 5\n",
      "4\n",
      "1 2\n",
      "2 4\n",
      "3 0\n",
      "5 0\n"
     ]
    }
   ],
   "source": [
    "#B. Jeff and Periods\n",
    "n = int(input())\n",
    "a = list(map(int,input().split()))\n",
    "if n == 1:\n",
    "    print(1)\n",
    "    print(a[0],0)\n",
    "else:\n",
    "    keep = dict()\n",
    "    track = dict() # x:[d,last_pos]\n",
    "    for i in range(n):\n",
    "        if a[i] not in track:\n",
    "            track[a[i]] = [0,i]\n",
    "            keep[a[i]] = True\n",
    "        else:\n",
    "            if track[a[i]][0] == 0:\n",
    "                track[a[i]][0] = i - track[a[i]][1]\n",
    "                track[a[i]][1] = i\n",
    "            elif track[a[i]][0] !=0 :\n",
    "                if track[a[i]][0] == i - track[a[i]][1]:\n",
    "                    track[a[i]][1] = i\n",
    "                else:\n",
    "                    keep[a[i]] = False\n",
    "    out = []\n",
    "    for k,v in track.items():\n",
    "        if keep[k]:\n",
    "            out.append([k,v[0]])\n",
    "    out.sort(key=lambda x:x[0])\n",
    "    print(len(out))\n",
    "    for i in out:\n",
    "        print(*i)"
   ]
  },
  {
   "cell_type": "code",
   "execution_count": 14,
   "metadata": {},
   "outputs": [
    {
     "name": "stdout",
     "output_type": "stream",
     "text": [
      "8\n",
      "1 2 1 3 1 2 1 5\n",
      "2 8\n",
      "1 8\n",
      "3 8\n",
      "1 8\n",
      "2 8\n",
      "1 8\n",
      "5 8\n"
     ]
    }
   ],
   "source": [
    "#B. Jeff and Periods\n",
    "n = int(input())\n",
    "a = list(map(int,input().split()))\n",
    "if n == 1:\n",
    "    print(a[0],0)\n",
    "else:\n",
    "    track = dict()\n",
    "    for i in range(n):\n",
    "        x = a[i]\n",
    "        flag = False\n",
    "        j = i\n",
    "        prev = i\n",
    "        d = 0\n",
    "        while j<n:\n",
    "            if a[j]==x and d ==0:\n",
    "                d = j-prev\n",
    "                flag = True\n",
    "                prev = j\n",
    "            elif a[j]==x and d!=0:\n",
    "                if d == j-prev:\n",
    "                    flag = True\n",
    "                else:\n",
    "                    flag = False\n",
    "                    break\n",
    "            j += 1\n",
    "        if flag:\n",
    "            print(a[i],j)"
   ]
  },
  {
   "cell_type": "code",
   "execution_count": 11,
   "metadata": {},
   "outputs": [
    {
     "name": "stdout",
     "output_type": "stream",
     "text": [
      "5\n",
      "3 1 2 3 1\n",
      "2 4\n"
     ]
    }
   ],
   "source": [
    "#B. Pashmak and Flowers\n",
    "n = int(input())\n",
    "flow = list(map(int,input().split()))\n",
    "flow.sort()\n",
    "diff = flow[-1] - flow[0]\n",
    "x = flow.count(flow[0])\n",
    "y = flow.count(flow[-1])\n",
    "if flow[0] == flow[-1]:\n",
    "    print(diff,(x*(x-1))//2)\n",
    "else:\n",
    "    print(diff,int(x*y))"
   ]
  },
  {
   "cell_type": "code",
   "execution_count": 8,
   "metadata": {},
   "outputs": [
    {
     "name": "stdout",
     "output_type": "stream",
     "text": [
      "2 2\n",
      "..\n",
      "WB\n",
      "..\n",
      "BW\n"
     ]
    }
   ],
   "source": [
    "#A. DZY Loves Chessboard\n",
    "n , m = map(int,input().split())\n",
    "a = 'BW'*50\n",
    "b = 'WB'*50\n",
    "out = []\n",
    "for i in range(50):\n",
    "    out.append(list(a))\n",
    "    out.append(list(b))\n",
    "for i in range(n):\n",
    "    ch = list(input())\n",
    "    for j in range(m):\n",
    "        if ch[j] == '-':\n",
    "            out[i][j] = '-'\n",
    "    print(*out[i][:m],sep='')"
   ]
  },
  {
   "cell_type": "code",
   "execution_count": 4,
   "metadata": {},
   "outputs": [
    {
     "name": "stdout",
     "output_type": "stream",
     "text": [
      "4 3\n",
      "2 2 2\n",
      "7 6\n"
     ]
    }
   ],
   "source": [
    "#B. Airport\n",
    "m,n = map(int,input().split())\n",
    "a = list(map(int,input().split()))\n",
    "b = [i for i in a]\n",
    "m1 = m\n",
    "mx = 0\n",
    "mn = 0\n",
    "while True:\n",
    "    if m==0 or max(a)==0:\n",
    "        break\n",
    "    else:\n",
    "        t = max(a)\n",
    "        i = a.index(t)\n",
    "        mx += a[i]\n",
    "        a[i] -= 1\n",
    "        m -= 1\n",
    "b.sort()\n",
    "for i in range(n):\n",
    "    if m1==0:\n",
    "        break\n",
    "    while m1>0 and b[i]>0:\n",
    "        mn += b[i]\n",
    "        b[i] -= 1\n",
    "        m1 -= 1\n",
    "print(mx,mn)"
   ]
  },
  {
   "cell_type": "code",
   "execution_count": 22,
   "metadata": {},
   "outputs": [
    {
     "name": "stdout",
     "output_type": "stream",
     "text": [
      "2 10\n",
      "4 5 6 7 8 9 10 11 12 12\n",
      "[4, 5, 6, 7, 8, 9, 10, 11, 12, 12] 0 1\n",
      "[4, 5, 6, 7, 8, 9, 10, 11, 12, 12] 1 2\n",
      "[4, 5, 6, 7, 8, 9, 10, 11, 12, 12] 2 3\n",
      "[4, 5, 6, 7, 8, 9, 10, 11, 12, 12] 3 4\n",
      "[4, 5, 6, 7, 8, 9, 10, 11, 12, 12] 4 5\n",
      "[4, 5, 6, 7, 8, 9, 10, 11, 12, 12] 5 6\n",
      "[4, 5, 6, 7, 8, 9, 10, 11, 12, 12] 6 7\n",
      "[4, 5, 6, 7, 8, 9, 10, 11, 12, 12] 7 8\n",
      "[4, 5, 6, 7, 8, 9, 10, 11, 12, 12] 8 9\n",
      "0\n"
     ]
    }
   ],
   "source": [
    "#A. Puzzles\n",
    "n, m = map(int,input().split())\n",
    "a = list(map(int,input().split()))\n",
    "a.sort()\n",
    "min_ = 9999\n",
    "if m == n:\n",
    "    print(a[-1]-a[0])\n",
    "else:\n",
    "    for i in range(0,m-n+1):\n",
    "        #print(a,i,i+n-1)\n",
    "        if abs(a[i+n-1]-a[i]) < min_ :\n",
    "            min_ = abs(a[i+n-1]-a[i])\n",
    "    print(min_)"
   ]
  },
  {
   "cell_type": "code",
   "execution_count": 17,
   "metadata": {},
   "outputs": [
    {
     "name": "stdout",
     "output_type": "stream",
     "text": [
      "4\n",
      "4 1 2 3\n"
     ]
    }
   ],
   "source": [
    "#A. Little Elephant and Function\n",
    "n = int(input())\n",
    "a = [n]+list(range(1,n))\n",
    "print(*a)"
   ]
  },
  {
   "cell_type": "code",
   "execution_count": 16,
   "metadata": {},
   "outputs": [
    {
     "name": "stdout",
     "output_type": "stream",
     "text": [
      "1\n",
      "NO\n"
     ]
    }
   ],
   "source": [
    "#A. Football\n",
    "s  = input()\n",
    "if '0000000' in s or '1111111' in s:\n",
    "    print('YES')\n",
    "else:\n",
    "    print('NO')"
   ]
  },
  {
   "cell_type": "code",
   "execution_count": 38,
   "metadata": {},
   "outputs": [
    {
     "name": "stdout",
     "output_type": "stream",
     "text": [
      "5\n",
      "1 1 1 1 2 2 3 2 2 1 1 1\n",
      "2\n"
     ]
    }
   ],
   "source": [
    "k = int(input())\n",
    "n = 12\n",
    "x = 0\n",
    "arr = list(map(int,input().split()))\n",
    "arr.sort(reverse = True)\n",
    "for i in range(n):\n",
    "    x += arr[i]\n",
    "    if x>=k:\n",
    "        break\n",
    "\n",
    "        if x>=k:\n",
    "    print(i+1)\n",
    "else:\n",
    "    print(-1)"
   ]
  },
  {
   "cell_type": "code",
   "execution_count": 30,
   "metadata": {},
   "outputs": [
    {
     "name": "stdout",
     "output_type": "stream",
     "text": [
      "1 11\n",
      "0 1 1 1 0 11\n",
      "1 0 1 0 1 11\n",
      "0\n"
     ]
    }
   ],
   "source": [
    "#A. System of Equations\n",
    "from math import sqrt\n",
    "n,m = map(int,input().split())\n",
    "c = 0\n",
    "for a in range(int(sqrt(max(n,m)))+1):\n",
    "    b = n - (a*a)\n",
    "    if b < 0:\n",
    "        continue\n",
    "    if a*a + b == n and a + b*b == m:\n",
    "        c += 1\n",
    "print(c)"
   ]
  },
  {
   "cell_type": "code",
   "execution_count": 18,
   "metadata": {},
   "outputs": [
    {
     "name": "stdout",
     "output_type": "stream",
     "text": [
      "5 3\n",
      "-6 0 35 -2 4\n",
      "-8\n"
     ]
    }
   ],
   "source": [
    "n, k = map(int,input().split())\n",
    "arr = list(map(int,input().split()))\n",
    "arr.sort()\n",
    "x = 0\n",
    "i = 0\n",
    "while i<n and k>0:\n",
    "    if arr[i]<0:\n",
    "        x += arr[i]\n",
    "        i += 1\n",
    "        k -= 1\n",
    "    else:\n",
    "        break\n",
    "print(abs(x))"
   ]
  },
  {
   "cell_type": "code",
   "execution_count": 16,
   "metadata": {},
   "outputs": [
    {
     "name": "stdout",
     "output_type": "stream",
     "text": [
      "1\n",
      "2\n",
      "1\n",
      "3\n",
      "0\n"
     ]
    }
   ],
   "source": [
    "#A. Bicycle Chain\n",
    "n = int(input())\n",
    "a = list(map(int,input().split()))\n",
    "m = int(input())\n",
    "b = list(map(int,input().split()))\n",
    "t = 0\n",
    "max_ = 0\n",
    "for i in a:\n",
    "    for j in b:\n",
    "        if j%i==0:\n",
    "            if j//i > max_:\n",
    "                t = 1\n",
    "                max_ = j//i\n",
    "            elif j//i == max_:\n",
    "                t += 1\n",
    "print(t)"
   ]
  },
  {
   "cell_type": "code",
   "execution_count": null,
   "metadata": {},
   "outputs": [],
   "source": [
    "#A. Translation\n",
    "s = input()\n",
    "t = input()\n",
    "if s == t[::-1]:\n",
    "    print(\"YES\")\n",
    "else:\n",
    "    print(\"NO\")"
   ]
  },
  {
   "cell_type": "code",
   "execution_count": 13,
   "metadata": {},
   "outputs": [
    {
     "name": "stdout",
     "output_type": "stream",
     "text": [
      "142\n",
      "NO\n"
     ]
    }
   ],
   "source": [
    "#A. Magic Numbers\n",
    "s = input()\n",
    "n = len(s)\n",
    "i = 0\n",
    "flag = True\n",
    "while i<n:\n",
    "    if s[i] != '1':\n",
    "        flag = False\n",
    "        break\n",
    "    else:\n",
    "        if (i+2)<n and s[i:i+3] == '144':\n",
    "            i += 3\n",
    "        elif (i+1)<n and s[i:i+2] == '14':\n",
    "            i += 2\n",
    "        else:\n",
    "            i+=1\n",
    "if flag:\n",
    "    print(\"YES\")\n",
    "else:\n",
    "    print(\"NO\")"
   ]
  },
  {
   "cell_type": "code",
   "execution_count": 15,
   "metadata": {},
   "outputs": [],
   "source": [
    "#A. Hexadecimal's theorem\n",
    "n = int(input())\n",
    "print(0,0,n)"
   ]
  },
  {
   "cell_type": "code",
   "execution_count": 14,
   "metadata": {},
   "outputs": [
    {
     "name": "stdout",
     "output_type": "stream",
     "text": [
      "7\n",
      "7 4 74 4 100 9 12\n",
      "Still Rozdil\n"
     ]
    }
   ],
   "source": [
    "#A. Little Elephant and Rozdil\n",
    "n = int(input())\n",
    "citi = list(map(int,input().split()))\n",
    "x = sorted(citi)\n",
    "if x[0] == x[1]:\n",
    "    print(\"Still Rozdil\")\n",
    "else:\n",
    "    print(citi.index(x[0])+1)"
   ]
  },
  {
   "cell_type": "code",
   "execution_count": 12,
   "metadata": {},
   "outputs": [
    {
     "name": "stdout",
     "output_type": "stream",
     "text": [
      "10 3\n",
      "5\n"
     ]
    }
   ],
   "source": [
    "#A. Even Odds\n",
    "from math import ceil\n",
    "n,k = map(int,input().split())\n",
    "if k<=ceil(n/2):\n",
    "    print(int(2*k-1))\n",
    "else:\n",
    "    print(int(2*(k-ceil(n/2))))   "
   ]
  },
  {
   "cell_type": "code",
   "execution_count": 7,
   "metadata": {},
   "outputs": [
    {
     "name": "stdout",
     "output_type": "stream",
     "text": [
      "4\n",
      "10 20 30 40\n",
      "2 1\n"
     ]
    }
   ],
   "source": [
    "#A. Reconnaissance 2\n",
    "n = int(input())\n",
    "arr = list(map(int,input().split()))\n",
    "x,y = n,1\n",
    "min_ = abs(arr[0] - arr[n-1])\n",
    "for i in range(1,n):\n",
    "    if abs(arr[i]-arr[i-1])<min_:\n",
    "        min_ = abs(arr[i]-arr[i-1])\n",
    "        x = i + 1\n",
    "        y = i\n",
    "print(x,y)"
   ]
  },
  {
   "cell_type": "code",
   "execution_count": 46,
   "metadata": {},
   "outputs": [
    {
     "name": "stdout",
     "output_type": "stream",
     "text": [
      "4 6 6\n",
      "28\n"
     ]
    }
   ],
   "source": [
    "#A. Parallelepiped\n",
    "from math import sqrt\n",
    "s1, s2, s3 = map(int,input().split())\n",
    "a = sqrt((s1*s3)/s2)\n",
    "b = sqrt((s2*s3)/s1)\n",
    "c = sqrt((s1*s2)/s3)\n",
    "print(int(4*(a+b+c)))"
   ]
  },
  {
   "cell_type": "code",
   "execution_count": null,
   "metadata": {},
   "outputs": [],
   "source": [
    "#A. Petr and Book\n",
    "n = int(input())\n",
    "arr = list(map(int,input().split()))\n",
    "pg = 0\n",
    "flag = True\n",
    "while flag:\n",
    "    for i in range(7):\n",
    "        pg += arr[i]\n",
    "        if pg>=n:\n",
    "            print(i+1)\n",
    "            flag = False\n",
    "            break"
   ]
  },
  {
   "cell_type": "code",
   "execution_count": 41,
   "metadata": {},
   "outputs": [
    {
     "name": "stdout",
     "output_type": "stream",
     "text": [
      "9\n",
      "-565 -752\n",
      "-184 723\n"
     ]
    },
    {
     "ename": "KeyboardInterrupt",
     "evalue": "Interrupted by user",
     "output_type": "error",
     "traceback": [
      "\u001b[1;31m---------------------------------------------------------------------------\u001b[0m",
      "\u001b[1;31mKeyboardInterrupt\u001b[0m                         Traceback (most recent call last)",
      "\u001b[1;32m<ipython-input-41-ef83cfe14b29>\u001b[0m in \u001b[0;36m<module>\u001b[1;34m\u001b[0m\n\u001b[0;32m      5\u001b[0m \u001b[0mpp\u001b[0m \u001b[1;33m=\u001b[0m \u001b[1;33m[\u001b[0m\u001b[1;33m]\u001b[0m\u001b[1;33m\u001b[0m\u001b[1;33m\u001b[0m\u001b[0m\n\u001b[0;32m      6\u001b[0m \u001b[1;32mfor\u001b[0m \u001b[0mi\u001b[0m \u001b[1;32min\u001b[0m \u001b[0mrange\u001b[0m\u001b[1;33m(\u001b[0m\u001b[0mn\u001b[0m\u001b[1;33m)\u001b[0m\u001b[1;33m:\u001b[0m\u001b[1;33m\u001b[0m\u001b[1;33m\u001b[0m\u001b[0m\n\u001b[1;32m----> 7\u001b[1;33m     \u001b[0mx\u001b[0m\u001b[1;33m,\u001b[0m\u001b[0my\u001b[0m \u001b[1;33m=\u001b[0m \u001b[0mmap\u001b[0m\u001b[1;33m(\u001b[0m\u001b[0mint\u001b[0m\u001b[1;33m,\u001b[0m\u001b[0minput\u001b[0m\u001b[1;33m(\u001b[0m\u001b[1;33m)\u001b[0m\u001b[1;33m.\u001b[0m\u001b[0msplit\u001b[0m\u001b[1;33m(\u001b[0m\u001b[1;33m)\u001b[0m\u001b[1;33m)\u001b[0m\u001b[1;33m\u001b[0m\u001b[1;33m\u001b[0m\u001b[0m\n\u001b[0m\u001b[0;32m      8\u001b[0m     \u001b[0mpp\u001b[0m\u001b[1;33m.\u001b[0m\u001b[0mappend\u001b[0m\u001b[1;33m(\u001b[0m\u001b[1;33m[\u001b[0m\u001b[0mx\u001b[0m\u001b[1;33m,\u001b[0m\u001b[0my\u001b[0m\u001b[1;33m]\u001b[0m\u001b[1;33m)\u001b[0m\u001b[1;33m\u001b[0m\u001b[1;33m\u001b[0m\u001b[0m\n\u001b[0;32m      9\u001b[0m     \u001b[0mnx\u001b[0m\u001b[1;33m[\u001b[0m\u001b[0mx\u001b[0m\u001b[1;33m]\u001b[0m \u001b[1;33m+=\u001b[0m \u001b[1;36m1\u001b[0m\u001b[1;33m\u001b[0m\u001b[1;33m\u001b[0m\u001b[0m\n",
      "\u001b[1;32mc:\\users\\amitd\\opencv\\lib\\site-packages\\ipykernel\\kernelbase.py\u001b[0m in \u001b[0;36mraw_input\u001b[1;34m(self, prompt)\u001b[0m\n\u001b[0;32m    858\u001b[0m                 \u001b[1;34m\"raw_input was called, but this frontend does not support input requests.\"\u001b[0m\u001b[1;33m\u001b[0m\u001b[1;33m\u001b[0m\u001b[0m\n\u001b[0;32m    859\u001b[0m             )\n\u001b[1;32m--> 860\u001b[1;33m         return self._input_request(str(prompt),\n\u001b[0m\u001b[0;32m    861\u001b[0m             \u001b[0mself\u001b[0m\u001b[1;33m.\u001b[0m\u001b[0m_parent_ident\u001b[0m\u001b[1;33m,\u001b[0m\u001b[1;33m\u001b[0m\u001b[1;33m\u001b[0m\u001b[0m\n\u001b[0;32m    862\u001b[0m             \u001b[0mself\u001b[0m\u001b[1;33m.\u001b[0m\u001b[0m_parent_header\u001b[0m\u001b[1;33m,\u001b[0m\u001b[1;33m\u001b[0m\u001b[1;33m\u001b[0m\u001b[0m\n",
      "\u001b[1;32mc:\\users\\amitd\\opencv\\lib\\site-packages\\ipykernel\\kernelbase.py\u001b[0m in \u001b[0;36m_input_request\u001b[1;34m(self, prompt, ident, parent, password)\u001b[0m\n\u001b[0;32m    902\u001b[0m             \u001b[1;32mexcept\u001b[0m \u001b[0mKeyboardInterrupt\u001b[0m\u001b[1;33m:\u001b[0m\u001b[1;33m\u001b[0m\u001b[1;33m\u001b[0m\u001b[0m\n\u001b[0;32m    903\u001b[0m                 \u001b[1;31m# re-raise KeyboardInterrupt, to truncate traceback\u001b[0m\u001b[1;33m\u001b[0m\u001b[1;33m\u001b[0m\u001b[1;33m\u001b[0m\u001b[0m\n\u001b[1;32m--> 904\u001b[1;33m                 \u001b[1;32mraise\u001b[0m \u001b[0mKeyboardInterrupt\u001b[0m\u001b[1;33m(\u001b[0m\u001b[1;34m\"Interrupted by user\"\u001b[0m\u001b[1;33m)\u001b[0m \u001b[1;32mfrom\u001b[0m \u001b[1;32mNone\u001b[0m\u001b[1;33m\u001b[0m\u001b[1;33m\u001b[0m\u001b[0m\n\u001b[0m\u001b[0;32m    905\u001b[0m             \u001b[1;32mexcept\u001b[0m \u001b[0mException\u001b[0m \u001b[1;32mas\u001b[0m \u001b[0me\u001b[0m\u001b[1;33m:\u001b[0m\u001b[1;33m\u001b[0m\u001b[1;33m\u001b[0m\u001b[0m\n\u001b[0;32m    906\u001b[0m                 \u001b[0mself\u001b[0m\u001b[1;33m.\u001b[0m\u001b[0mlog\u001b[0m\u001b[1;33m.\u001b[0m\u001b[0mwarning\u001b[0m\u001b[1;33m(\u001b[0m\u001b[1;34m\"Invalid Message:\"\u001b[0m\u001b[1;33m,\u001b[0m \u001b[0mexc_info\u001b[0m\u001b[1;33m=\u001b[0m\u001b[1;32mTrue\u001b[0m\u001b[1;33m)\u001b[0m\u001b[1;33m\u001b[0m\u001b[1;33m\u001b[0m\u001b[0m\n",
      "\u001b[1;31mKeyboardInterrupt\u001b[0m: Interrupted by user"
     ]
    }
   ],
   "source": [
    "# A. Supercentral Point\n",
    "n= int(input())\n",
    "l=[]\n",
    "for i in range(n):\n",
    "    a=list(map(int,input().split()))\n",
    "    l.append(a)\n",
    "c=0\n",
    "a=0\n",
    "b=0\n",
    "d=0\n",
    "e=0\n",
    "for i in range(n):\n",
    "    for j in range(n):\n",
    "        if((l[i][1]<l[j][1]) and (l[i][0]==l[j][0])):\n",
    "            a+=1\n",
    "        if(l[i][1]>l[j][1] and (l[i][0]==l[j][0])):\n",
    "            b+=1\n",
    "        if(l[i][0]<l[j][0] and (l[i][1]==l[j][1])):\n",
    "            c+=1\n",
    "        if(l[i][0]>l[j][0] and (l[i][1]==l[j][1])):\n",
    "            d+=1\n",
    "    if(a+b+c+d>=4 and (a>=1 and b>=1 and c>=1 and d>=1)):\n",
    "        e+=1\n",
    "    a=0\n",
    "    b=0\n",
    "    c=0\n",
    "    d=0\n",
    "print(e)"
   ]
  },
  {
   "cell_type": "code",
   "execution_count": null,
   "metadata": {},
   "outputs": [],
   "source": [
    "#A. Jzzhu and Children\n",
    "n,m = map(int,input().split())\n",
    "child = list(map(int,input().split()))\n",
    "check = n\n",
    "while True:\n",
    "    #print(check,child)\n",
    "    if check<1:\n",
    "        break\n",
    "    check = 0\n",
    "    last = 0\n",
    "    for i in range(n):\n",
    "        if child[i]<=m and child[i]>0:\n",
    "            child[i] = 0\n",
    "            last = i\n",
    "        elif child[i]>m:\n",
    "            child[i] -= m \n",
    "            check += 1\n",
    "            last = i\n",
    "print(last+1)"
   ]
  },
  {
   "cell_type": "code",
   "execution_count": 34,
   "metadata": {},
   "outputs": [
    {
     "name": "stdout",
     "output_type": "stream",
     "text": [
      "2\n",
      "3 5\n",
      "3\n"
     ]
    }
   ],
   "source": [
    "#A. Dima and Friends\n",
    "n = int(input())\n",
    "arr = list(map(int,input().split()))\n",
    "fin = sum(arr)\n",
    "ways = 0\n",
    "for i in range(1,6):\n",
    "    if (fin+i)%(n+1)!=1:\n",
    "        ways += 1\n",
    "print(ways)"
   ]
  },
  {
   "cell_type": "code",
   "execution_count": 33,
   "metadata": {},
   "outputs": [
    {
     "ename": "KeyboardInterrupt",
     "evalue": "Interrupted by user",
     "output_type": "error",
     "traceback": [
      "\u001b[1;31m---------------------------------------------------------------------------\u001b[0m",
      "\u001b[1;31mKeyboardInterrupt\u001b[0m                         Traceback (most recent call last)",
      "\u001b[1;32m<ipython-input-33-31f6f1ba0151>\u001b[0m in \u001b[0;36m<module>\u001b[1;34m\u001b[0m\n\u001b[0;32m      1\u001b[0m \u001b[1;31m#B. Effective Approach\u001b[0m\u001b[1;33m\u001b[0m\u001b[1;33m\u001b[0m\u001b[1;33m\u001b[0m\u001b[0m\n\u001b[1;32m----> 2\u001b[1;33m \u001b[0mn\u001b[0m \u001b[1;33m=\u001b[0m \u001b[0mint\u001b[0m\u001b[1;33m(\u001b[0m\u001b[0minput\u001b[0m\u001b[1;33m(\u001b[0m\u001b[1;33m)\u001b[0m\u001b[1;33m)\u001b[0m\u001b[1;33m\u001b[0m\u001b[1;33m\u001b[0m\u001b[0m\n\u001b[0m\u001b[0;32m      3\u001b[0m \u001b[0marr\u001b[0m \u001b[1;33m=\u001b[0m \u001b[0mlist\u001b[0m\u001b[1;33m(\u001b[0m\u001b[0mmap\u001b[0m\u001b[1;33m(\u001b[0m\u001b[0mint\u001b[0m\u001b[1;33m,\u001b[0m\u001b[0minput\u001b[0m\u001b[1;33m(\u001b[0m\u001b[1;33m)\u001b[0m\u001b[1;33m.\u001b[0m\u001b[0msplit\u001b[0m\u001b[1;33m(\u001b[0m\u001b[1;33m)\u001b[0m\u001b[1;33m)\u001b[0m\u001b[1;33m)\u001b[0m\u001b[1;33m\u001b[0m\u001b[1;33m\u001b[0m\u001b[0m\n\u001b[0;32m      4\u001b[0m \u001b[0marr\u001b[0m \u001b[1;33m=\u001b[0m \u001b[1;33m[\u001b[0m\u001b[1;36m0\u001b[0m\u001b[1;33m]\u001b[0m\u001b[1;33m+\u001b[0m\u001b[0marr\u001b[0m\u001b[1;33m\u001b[0m\u001b[1;33m\u001b[0m\u001b[0m\n\u001b[0;32m      5\u001b[0m \u001b[0mm\u001b[0m \u001b[1;33m=\u001b[0m \u001b[0mint\u001b[0m\u001b[1;33m(\u001b[0m\u001b[0minput\u001b[0m\u001b[1;33m(\u001b[0m\u001b[1;33m)\u001b[0m\u001b[1;33m)\u001b[0m\u001b[1;33m\u001b[0m\u001b[1;33m\u001b[0m\u001b[0m\n",
      "\u001b[1;32mc:\\users\\amitd\\opencv\\lib\\site-packages\\ipykernel\\kernelbase.py\u001b[0m in \u001b[0;36mraw_input\u001b[1;34m(self, prompt)\u001b[0m\n\u001b[0;32m    858\u001b[0m                 \u001b[1;34m\"raw_input was called, but this frontend does not support input requests.\"\u001b[0m\u001b[1;33m\u001b[0m\u001b[1;33m\u001b[0m\u001b[0m\n\u001b[0;32m    859\u001b[0m             )\n\u001b[1;32m--> 860\u001b[1;33m         return self._input_request(str(prompt),\n\u001b[0m\u001b[0;32m    861\u001b[0m             \u001b[0mself\u001b[0m\u001b[1;33m.\u001b[0m\u001b[0m_parent_ident\u001b[0m\u001b[1;33m,\u001b[0m\u001b[1;33m\u001b[0m\u001b[1;33m\u001b[0m\u001b[0m\n\u001b[0;32m    862\u001b[0m             \u001b[0mself\u001b[0m\u001b[1;33m.\u001b[0m\u001b[0m_parent_header\u001b[0m\u001b[1;33m,\u001b[0m\u001b[1;33m\u001b[0m\u001b[1;33m\u001b[0m\u001b[0m\n",
      "\u001b[1;32mc:\\users\\amitd\\opencv\\lib\\site-packages\\ipykernel\\kernelbase.py\u001b[0m in \u001b[0;36m_input_request\u001b[1;34m(self, prompt, ident, parent, password)\u001b[0m\n\u001b[0;32m    902\u001b[0m             \u001b[1;32mexcept\u001b[0m \u001b[0mKeyboardInterrupt\u001b[0m\u001b[1;33m:\u001b[0m\u001b[1;33m\u001b[0m\u001b[1;33m\u001b[0m\u001b[0m\n\u001b[0;32m    903\u001b[0m                 \u001b[1;31m# re-raise KeyboardInterrupt, to truncate traceback\u001b[0m\u001b[1;33m\u001b[0m\u001b[1;33m\u001b[0m\u001b[1;33m\u001b[0m\u001b[0m\n\u001b[1;32m--> 904\u001b[1;33m                 \u001b[1;32mraise\u001b[0m \u001b[0mKeyboardInterrupt\u001b[0m\u001b[1;33m(\u001b[0m\u001b[1;34m\"Interrupted by user\"\u001b[0m\u001b[1;33m)\u001b[0m \u001b[1;32mfrom\u001b[0m \u001b[1;32mNone\u001b[0m\u001b[1;33m\u001b[0m\u001b[1;33m\u001b[0m\u001b[0m\n\u001b[0m\u001b[0;32m    905\u001b[0m             \u001b[1;32mexcept\u001b[0m \u001b[0mException\u001b[0m \u001b[1;32mas\u001b[0m \u001b[0me\u001b[0m\u001b[1;33m:\u001b[0m\u001b[1;33m\u001b[0m\u001b[1;33m\u001b[0m\u001b[0m\n\u001b[0;32m    906\u001b[0m                 \u001b[0mself\u001b[0m\u001b[1;33m.\u001b[0m\u001b[0mlog\u001b[0m\u001b[1;33m.\u001b[0m\u001b[0mwarning\u001b[0m\u001b[1;33m(\u001b[0m\u001b[1;34m\"Invalid Message:\"\u001b[0m\u001b[1;33m,\u001b[0m \u001b[0mexc_info\u001b[0m\u001b[1;33m=\u001b[0m\u001b[1;32mTrue\u001b[0m\u001b[1;33m)\u001b[0m\u001b[1;33m\u001b[0m\u001b[1;33m\u001b[0m\u001b[0m\n",
      "\u001b[1;31mKeyboardInterrupt\u001b[0m: Interrupted by user"
     ]
    }
   ],
   "source": [
    "#B. Effective Approach\n",
    "n = int(input())\n",
    "arr = list(map(int,input().split()))\n",
    "arr = [0]+arr\n",
    "m = int(input())\n",
    "que = list(map(int,input().split()))\n",
    "pos = [0]*(n+1)\n",
    "for j in range(n+1):\n",
    "    pos[arr[j]] = j\n",
    "vass = 0 #from 1\n",
    "pets = 0 #from n\n",
    "for i in que:\n",
    "    vass += pos[i]\n",
    "    pets += n-pos[i] + 1\n",
    "print(vass,pets)"
   ]
  },
  {
   "cell_type": "code",
   "execution_count": null,
   "metadata": {},
   "outputs": [],
   "source": [
    "# "
   ]
  },
  {
   "cell_type": "code",
   "execution_count": null,
   "metadata": {},
   "outputs": [],
   "source": []
  }
 ],
 "metadata": {
  "kernelspec": {
   "display_name": "Python 3",
   "language": "python",
   "name": "python3"
  },
  "language_info": {
   "codemirror_mode": {
    "name": "ipython",
    "version": 3
   },
   "file_extension": ".py",
   "mimetype": "text/x-python",
   "name": "python",
   "nbconvert_exporter": "python",
   "pygments_lexer": "ipython3",
   "version": "3.8.3"
  }
 },
 "nbformat": 4,
 "nbformat_minor": 4
}
